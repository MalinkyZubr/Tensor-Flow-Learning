{
 "cells": [
  {
   "cell_type": "markdown",
   "metadata": {},
   "source": [
    "# Clustering\n",
    "first unsupervised learning algorithm. Only works for a few problems. When you have a bunch of unlabelled inputs and no output\n",
    "it finds clusters of like data points and tells the location of those clusters. \n",
    "\n",
    "basic K-means algorithm\n",
    "1. randomly pick K points to place K centroids. Centroid, where is our cluster defined?\n",
    "2. Assign all of the data points to the centroids by distance. The closest centroid toa  point is the one it is assigned to \n",
    "3. average all of the points belonging to each centroid to find the middle of those clusters. Place the corresponding centroids into that position\n",
    "4. reassign every point once again to the closes centroid\n",
    "5. repeat steps 3-4 until no point changes which centroid it belongs to\n",
    "\n",
    "basically, 3-4 says move the centroid to the mathematical center of its cluster, then change which centroid some points belong to if they are instead closer to a different centroid\n",
    "\n",
    "you need to tell the program how many clusters you want. There are some algorithms that can decide for you however"
   ]
  }
 ],
 "metadata": {
  "kernelspec": {
   "display_name": "Python 3.10.1 64-bit",
   "language": "python",
   "name": "python3"
  },
  "language_info": {
   "name": "python",
   "version": "3.10.1"
  },
  "orig_nbformat": 4,
  "vscode": {
   "interpreter": {
    "hash": "26de051ba29f2982a8de78e945f0abaf191376122a1563185a90213a26c5da77"
   }
  }
 },
 "nbformat": 4,
 "nbformat_minor": 2
}
