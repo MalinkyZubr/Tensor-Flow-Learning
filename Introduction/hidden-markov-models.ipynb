{
 "cells": [
  {
   "cell_type": "markdown",
   "metadata": {},
   "source": [
    "# Hidden Markov Models\n",
    "lets take weather predictions\n",
    "we know that if its sunny, the next day has an 80% chance of being sunny, and 20% chance of being overcast. Along with some other information, we can predict the weather\n",
    "\n",
    "very useful when we know the probability of something happening.\n",
    "Other times, we can use a huge dataset to find the probability of something happening ourselves and then using that in the hidden markov model.\n",
    "\n",
    "A finite set of states, each of which is associated with a finite multidimensional probability distribution\n",
    "\n",
    "we never look at these states in the model. We look at observations\n",
    "\n",
    "an observation is something like if it is sunny, jim has an 80% chance of giving his paw\n",
    "\n",
    "## data\n",
    "typically in hidden markov models we just need only constants for probability\n",
    "\n",
    "states:\n",
    "we wil define how many states we have. we could have as many as we want. We dont directly observe them\n",
    "\n",
    "Observations:\n",
    "each state has a particular outcome or observation associated with it based on a probability distribution. An example of this is: ON a hot day jim has an 80% chance of giving his paw, and a 20% chance of not giving his paw\n",
    "\n",
    "Transitions: each state will have a probability defining the likelyhood of transitioning to a different state: An example is the folliwing: if jim gives his paw, there is a 30% chance he will give his paw again, and a 70% chance he will walk away"
   ]
  },
  {
   "cell_type": "markdown",
   "metadata": {},
   "source": [
    "## whats the point?\n",
    "predict future events based on past events\n",
    "if today is warm, what is the likelihood tomorrow will be cold"
   ]
  },
  {
   "cell_type": "code",
   "execution_count": 1,
   "metadata": {},
   "outputs": [],
   "source": [
    "import tensorflow_probability as tfp \n",
    "import tensorflow as tf "
   ]
  },
  {
   "cell_type": "markdown",
   "metadata": {},
   "source": [
    "1. cold days encoded by 0, hot days encoded by 1\n",
    "2. the first day has an 80% chance of being cold\n",
    "3. a cold day has a 30% chance of being followed by a hot day\n",
    "4. a hot day has a 20% chance of being followed by a cold day\n",
    "5. on each day the temperature is normally distributed with mean and standard deviation 0 and 5 on a cold day the mean and standard deviation 15 and 10 on a hot day\n",
    "standard deviation basically being the range of expected values"
   ]
  },
  {
   "cell_type": "code",
   "execution_count": 7,
   "metadata": {},
   "outputs": [],
   "source": [
    "tfd = tfp.distributions # save the distributions module for ease of use\n",
    "initial_distribution = tfd.Categorical(probs=[0.8, 0.2]) # refers to point 1\n",
    "transition_distribution = tfd.Categorical(probs=[[0.7, 0.3], # we have 2 states, hot and cold, so we have 2 probabilities\n",
    "                                                 [0.2, 0.8]]) # refer to points 3 and 4\n",
    "observation_distribution = tfd.Normal(loc=[0., 15.], scale=[5., 10.]) # refer to point 5\n",
    "# loc is the average temperature, scale is standard deviation\n",
    "# we have . after each number to make them floats"
   ]
  },
  {
   "cell_type": "code",
   "execution_count": 18,
   "metadata": {},
   "outputs": [],
   "source": [
    "model = tfd.HiddenMarkovModel(\n",
    "    initial_distribution=initial_distribution,\n",
    "    transition_distribution=transition_distribution,\n",
    "    observation_distribution=observation_distribution,\n",
    "    num_steps=354 # tells the program how many days we want to predict for\n",
    ")"
   ]
  },
  {
   "cell_type": "markdown",
   "metadata": {},
   "source": [
    "now lets predict the average temperature on each day"
   ]
  },
  {
   "cell_type": "code",
   "execution_count": 19,
   "metadata": {},
   "outputs": [
    {
     "name": "stdout",
     "output_type": "stream",
     "text": [
      "[3.        5.9999995 7.4999995 8.25      8.625     8.812501  8.90625\n",
      " 8.953126  8.9765625 8.988281  8.994141  8.99707   8.998536  8.999269\n",
      " 8.999633  8.999816  8.9999075 8.999953  8.999976  8.999987  8.999991\n",
      " 8.999994  8.999996  8.999998  8.999998  8.999998  8.999998  8.999998\n",
      " 8.999998  8.999998  8.999998  8.999998  8.999998  8.999998  8.999998\n",
      " 8.999998  8.999998  8.999998  8.999998  8.999998  8.999998  8.999998\n",
      " 8.999998  8.999998  8.999998  8.999998  8.999998  8.999998  8.999998\n",
      " 8.999998  8.999998  8.999998  8.999998  8.999998  8.999998  8.999998\n",
      " 8.999998  8.999998  8.999998  8.999998  8.999998  8.999998  8.999998\n",
      " 8.999998  8.999998  8.999998  8.999998  8.999998  8.999998  8.999998\n",
      " 8.999998  8.999998  8.999998  8.999998  8.999998  8.999998  8.999998\n",
      " 8.999998  8.999998  8.999998  8.999998  8.999998  8.999998  8.999998\n",
      " 8.999998  8.999998  8.999998  8.999998  8.999998  8.999998  8.999998\n",
      " 8.999998  8.999998  8.999998  8.999998  8.999998  8.999998  8.999998\n",
      " 8.999998  8.999998  8.999998  8.999998  8.999998  8.999998  8.999998\n",
      " 8.999998  8.999998  8.999998  8.999998  8.999998  8.999998  8.999998\n",
      " 8.999998  8.999998  8.999998  8.999998  8.999998  8.999998  8.999998\n",
      " 8.999998  8.999998  8.999998  8.999998  8.999998  8.999998  8.999998\n",
      " 8.999998  8.999998  8.999998  8.999998  8.999998  8.999998  8.999998\n",
      " 8.999998  8.999998  8.999998  8.999998  8.999998  8.999998  8.999998\n",
      " 8.999998  8.999998  8.999998  8.999998  8.999998  8.999998  8.999998\n",
      " 8.999998  8.999998  8.999998  8.999998  8.999998  8.999998  8.999998\n",
      " 8.999998  8.999998  8.999998  8.999998  8.999998  8.999998  8.999998\n",
      " 8.999998  8.999998  8.999998  8.999998  8.999998  8.999998  8.999998\n",
      " 8.999998  8.999998  8.999998  8.999998  8.999998  8.999998  8.999998\n",
      " 8.999998  8.999998  8.999998  8.999998  8.999998  8.999998  8.999998\n",
      " 8.999998  8.999998  8.999998  8.999998  8.999998  8.999998  8.999998\n",
      " 8.999998  8.999998  8.999998  8.999998  8.999998  8.999998  8.999998\n",
      " 8.999998  8.999998  8.999998  8.999998  8.999998  8.999998  8.999998\n",
      " 8.999998  8.999998  8.999998  8.999998  8.999998  8.999998  8.999998\n",
      " 8.999998  8.999998  8.999998  8.999998  8.999998  8.999998  8.999998\n",
      " 8.999998  8.999998  8.999998  8.999998  8.999998  8.999998  8.999998\n",
      " 8.999998  8.999998  8.999998  8.999998  8.999998  8.999998  8.999998\n",
      " 8.999998  8.999998  8.999998  8.999998  8.999998  8.999998  8.999998\n",
      " 8.999998  8.999998  8.999998  8.999998  8.999998  8.999998  8.999998\n",
      " 8.999998  8.999998  8.999998  8.999998  8.999998  8.999998  8.999998\n",
      " 8.999998  8.999998  8.999998  8.999998  8.999998  8.999998  8.999998\n",
      " 8.999998  8.999998  8.999998  8.999998  8.999998  8.999998  8.999998\n",
      " 8.999998  8.999998  8.999998  8.999998  8.999998  8.999998  8.999998\n",
      " 8.999998  8.999998  8.999998  8.999998  8.999998  8.999998  8.999998\n",
      " 8.999998  8.999998  8.999998  8.999998  8.999998  8.999998  8.999998\n",
      " 8.999998  8.999998  8.999998  8.999998  8.999998  8.999998  8.999998\n",
      " 8.999998  8.999998  8.999998  8.999998  8.999998  8.999998  8.999998\n",
      " 8.999998  8.999998  8.999998  8.999998  8.999998  8.999998  8.999998\n",
      " 8.999998  8.999998  8.999998  8.999998  8.999998  8.999998  8.999998\n",
      " 8.999998  8.999998  8.999998  8.999998  8.999998  8.999998  8.999998\n",
      " 8.999998  8.999998  8.999998  8.999998  8.999998  8.999998  8.999998\n",
      " 8.999998  8.999998  8.999998  8.999998  8.999998  8.999998  8.999998\n",
      " 8.999998  8.999998  8.999998  8.999998  8.999998  8.999998  8.999998\n",
      " 8.999998  8.999998  8.999998  8.999998  8.999998  8.999998  8.999998\n",
      " 8.999998  8.999998  8.999998  8.999998 ]\n"
     ]
    }
   ],
   "source": [
    "mean = model.mean() # find the means from the model\n",
    "\n",
    "# This is an unevaluated tensor\n",
    "# to evaluate the mean we must use a session\n",
    "\n",
    "with tf.compat.v1.Session() as sess:\n",
    "    print(mean.numpy())"
   ]
  },
  {
   "cell_type": "markdown",
   "metadata": {},
   "source": [
    "and we have extracted the predicted average temperatures for the whole week!\n",
    "\n",
    "## Conclusion\n",
    "markov models are kind of cool, but just a bit useless most of the time. You can go forever without ever using it\n"
   ]
  }
 ],
 "metadata": {
  "kernelspec": {
   "display_name": "Python 3.10.1 64-bit",
   "language": "python",
   "name": "python3"
  },
  "language_info": {
   "codemirror_mode": {
    "name": "ipython",
    "version": 3
   },
   "file_extension": ".py",
   "mimetype": "text/x-python",
   "name": "python",
   "nbconvert_exporter": "python",
   "pygments_lexer": "ipython3",
   "version": "3.10.1"
  },
  "orig_nbformat": 4,
  "vscode": {
   "interpreter": {
    "hash": "26de051ba29f2982a8de78e945f0abaf191376122a1563185a90213a26c5da77"
   }
  }
 },
 "nbformat": 4,
 "nbformat_minor": 2
}
