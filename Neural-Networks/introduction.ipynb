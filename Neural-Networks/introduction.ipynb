{
 "cells": [
  {
   "cell_type": "markdown",
   "metadata": {},
   "source": [
    "# Intro to neural networks\n",
    "these are very complex. So pay attention!\n",
    "\n",
    "what is a neural network?\n",
    "provide classification or prediction\n",
    "feed information into the neural network and get an output prediction or classification\n",
    "\n",
    "\n",
    "## magic!\n",
    "![alt text](Neural-Networks-Magic.png)\n",
    "\n",
    "the neural network is basically a function\n",
    "\n",
    "what is it made of?\n",
    "A neural network is made of layers\n",
    "\n",
    "## inputs and outputs\n",
    "![alt text](neural-network-outputs.png)\n",
    "\n",
    "suppose you have a neural network to classify a 28 x 28 pixel image. You need one input neuron for every single pixel, which is over 700! no problem, 700 is pretty small in reality\n",
    "\n",
    "## Hidden Layers\n",
    "Basically the basis for neural networks. The hidden layer is the in between from the input neurons to the output neurons. \n",
    "\n",
    "we never see the hidden layer, or their operations, thats why they are hidden. They are algorithmically designed\n",
    "\n",
    "They are all interconnected  by the connection architecture, made up of weights, which are just numbers. Input weights are typically one\n",
    "the numbers are the trainable parameters\n",
    "the goal of the algorithm is to optimize the weights in the connection architecture\n",
    "\n",
    "one of the common architectures we see is the densely connected architecture, where every input node is connected to every hidden layer\n",
    "\n",
    "whats a bias?\n",
    "there is only one bias, and only one bias per layer\n",
    "it exists in the layer directly before the layer it affects\n",
    "\n",
    "the bias takes no input information. it is another trainable parameter for the network that connects to the hidden layer. Whenever a bias connects to a neuron, the weights are already usually one\n",
    "\n",
    "### What do these things do anyway?\n",
    "we have datapoints x, y, and z. we want to cluster these into the red or blue class\n",
    "\n",
    "we want the output neuron to cluster the values in either red or blue. It has an output range of 0 or 1. as such, if the value at the output is closer to 0, it will be red. If its closer to 1, it will be blue\n",
    "\n",
    "the input neurons will be x y and z\n",
    "\n",
    "assume each one has a value of 2\n",
    "each node finds the weighted sum of all the nodes it is connected to behind it\n",
    "\n",
    "weight at neuron x * value at neuron x + weight at neuron y * value at neuron y + weight at neuron z * value at neuron z + bias\n",
    "\n",
    "![alt text](equation.png)\n",
    "\n",
    "n = number of neurons\n",
    "i = index\n",
    "the weights are updated and changed as the model is trained\n",
    "\n",
    "### Activation Function\n",
    "if we start with random weights and biases, how do we ensure that the final value falls within the parametders of the output? in this case, between 0 and 1\n",
    "activation functions: basically a filter that allows you to transform weights and biases into a form understandable by the output neurons\n",
    "\n",
    "Relu: (rectified linear unit)\n",
    "any number below 0 is 0, any number above is just that number\n",
    "\n",
    "Tanh: (hyperbolic tangent)\n",
    "squishes the values between -1 and 1. The most positive number will be closest to 1, the most negative will be closest to -1\n",
    "\n",
    "Sigmoid: (squishifier)\n",
    "same thing as tanh but maps any set of numbers to a range between 0 and 1. Most negative numbers will be closer to 0, the most positive numbers are closer to 1\n",
    "\n",
    "we apply the activation function to any value before it is sent to the next neuron. all outputs within the neural network must be plugged into the activation function before being distributed\n",
    "\n",
    "at each neuron we can identify which function to use. At the output it is very important to select the proper function\n",
    "\n",
    "in our case, we should use the sigmoid function so we get a number between 0 and 1\n",
    "\n",
    "#### why would we use it on a hidden layer?\n",
    "introduce complexity to the hidden layer. This gives the algorithm more stuff to train and optimize, and makes it more adaptable. \n",
    "Basically, if we have a bunch of points on a plane, by using an activation function we can introduce another layer of complexity to that plane. \n",
    "As such, we can extract additional features when those points are moved around in accordance with the new activation function. It allows us to make more complex predictions\n",
    "\n",
    "we can transform 2 dimensions into 3 dimensions\n",
    "\n",
    "something 3 dimensional has a lot more information\n",
    "oversimplified, but its basically the concept\n",
    "\n",
    "## How do neural networks train?\n",
    "the weights and biases are what our network will come up with. \n",
    "The way that we train it is to give it some information, the expected output, and modify it as it operates\n",
    "\n",
    "a loss function calculates how far the output was away from the expected output. THe loss function is essential for training because it is feedback, and allows it to re-adjust itself. It will tweak the weights and biases. THis basically just calculates a numeric value to determine badness. The higher the value, the worse our neural network model\n",
    "\n",
    "### Loss functions\n",
    "#### mean absolute error\n",
    "![alt text](equation2.png)\n",
    "\n",
    "#### mean squared error\n",
    "\n",
    "#### Hinge Loss\n",
    "\n",
    "all of these are also known as cost functions\n",
    "\n",
    "we want our network to cost the least\n",
    "\n",
    "how we update these weights and biases is called GRADIENT DESCENT\n",
    "\n",
    "## Gradient Descent\n",
    "our parameters are weights and biases. Changing these will make our network better or worse. The loss function will tell us if we made it better or worse\n",
    "\n",
    "on the entire map for our loss function, we want to find where the absolute minimum is. Like there are minimums on two dimensions in calculus, there are minimums in higher dimensional calculus\n",
    "\n",
    "gradient descent tells us what direction we need to move in to get to that minimum. Basically we look for the direction with the steepest derivative, and we follow that direction. Then we do back propogation to make these changes in the neural network\n",
    "\n",
    "![alt text](neural-network-hidden.png)\n"
   ]
  },
  {
   "cell_type": "markdown",
   "metadata": {},
   "source": [
    "## optimizer\n",
    "the algorithm that does the gradient descent\n",
    "\n",
    "* gradient descent\n",
    "* stochastic gradient descent\n",
    "* mini batch gradient descent\n",
    "* momentum\n",
    "* nesterov accelerated gradient"
   ]
  },
  {
   "cell_type": "code",
   "execution_count": 1,
   "metadata": {},
   "outputs": [],
   "source": [
    "import tensorflow as tf \n",
    "from tensorflow import keras \n",
    "\n",
    "import numpy as np\n",
    "import matplotlib.pyplot as plt"
   ]
  },
  {
   "cell_type": "markdown",
   "metadata": {},
   "source": [
    "### what are we doing?\n",
    "we will be using the fashion mnist dataset with 60000 training images and 10000 evaluation images. We will take the pixel data of each one  and cluster them"
   ]
  },
  {
   "cell_type": "code",
   "execution_count": 2,
   "metadata": {},
   "outputs": [],
   "source": [
    "fashion_mnist = keras.datasets.fashion_mnist # loading the dataset\n",
    "(train_images, train_labels), (test_images, test_labels) = fashion_mnist.load_data()"
   ]
  },
  {
   "cell_type": "code",
   "execution_count": 3,
   "metadata": {},
   "outputs": [
    {
     "data": {
      "text/plain": [
       "(60000, 28, 28)"
      ]
     },
     "execution_count": 3,
     "metadata": {},
     "output_type": "execute_result"
    }
   ],
   "source": [
    "train_images.shape # training dataset shape"
   ]
  },
  {
   "cell_type": "code",
   "execution_count": 4,
   "metadata": {},
   "outputs": [
    {
     "data": {
      "text/plain": [
       "194"
      ]
     },
     "execution_count": 4,
     "metadata": {},
     "output_type": "execute_result"
    }
   ],
   "source": [
    "train_images[0, 23, 23]"
   ]
  },
  {
   "cell_type": "markdown",
   "metadata": {},
   "source": [
    "all the pixels are represented on 0-255 on the greyscale. We could use RGB with a more complex network however"
   ]
  },
  {
   "cell_type": "code",
   "execution_count": 5,
   "metadata": {},
   "outputs": [
    {
     "data": {
      "text/plain": [
       "array([9, 0, 0, 3, 0, 2, 7, 2, 5, 5, 0, 9, 5, 5, 7, 9, 1, 0, 6, 4, 3, 1,\n",
       "       4, 8, 4, 3, 0, 2, 4, 4, 5, 3, 6, 6, 0, 8, 5, 2, 1, 6, 6, 7, 9, 5,\n",
       "       9, 2, 7, 3, 0, 3, 3, 3, 7, 2, 2, 6, 6, 8, 3, 3, 5, 0, 5, 5, 0, 2,\n",
       "       0, 0, 4, 1, 3, 1, 6, 3, 1, 4, 4, 6, 1, 9, 1, 3, 5, 7, 9, 7, 1, 7,\n",
       "       9, 9, 9, 3, 2, 9, 3, 6, 4, 1, 1, 8], dtype=uint8)"
      ]
     },
     "execution_count": 5,
     "metadata": {},
     "output_type": "execute_result"
    }
   ],
   "source": [
    "train_labels[:100]"
   ]
  },
  {
   "cell_type": "markdown",
   "metadata": {},
   "source": [
    "each of our types of clothing is represented by a number between 0 and 9"
   ]
  },
  {
   "cell_type": "code",
   "execution_count": 6,
   "metadata": {},
   "outputs": [],
   "source": [
    "class_names = [\"T-shirt/top\", 'Pants', 'Sweater', 'Dress', 'Coat', 'Sandal', 'Shirt', 'Sneaker', 'Bag', 'Ankle boot']"
   ]
  },
  {
   "cell_type": "code",
   "execution_count": 7,
   "metadata": {},
   "outputs": [
    {
     "data": {
      "image/png": "[encoded data removed]",
      "text/plain": [
       "<Figure size 432x288 with 2 Axes>"
      ]
     },
     "metadata": {
      "needs_background": "light"
     },
     "output_type": "display_data"
    }
   ],
   "source": [
    "# now lets print out what these things look like\n",
    "plt.figure()\n",
    "plt.imshow(train_images[1])\n",
    "plt.colorbar()\n",
    "plt.grid(False)\n",
    "plt.show()"
   ]
  },
  {
   "cell_type": "markdown",
   "metadata": {},
   "source": [
    "## Data preprocessing\n",
    "The last step before creating our model is preprocessing our data. We want to get all our values between 0 and 1 most of the time. This is because by default neural networks have weights and biases betrween 0 and 1"
   ]
  },
  {
   "cell_type": "code",
   "execution_count": 9,
   "metadata": {},
   "outputs": [],
   "source": [
    "train_images = train_images / 255 # scale it down to between 1 and 0\n",
    "\n",
    "test_images = test_images / 255 # test data must be preprocessed the exact same as the train data"
   ]
  },
  {
   "cell_type": "markdown",
   "metadata": {},
   "source": [
    "shape and data is the hardest part of machine learning"
   ]
  },
  {
   "cell_type": "code",
   "execution_count": 22,
   "metadata": {},
   "outputs": [],
   "source": [
    "model = keras.Sequential([ # we want a sequential neural network, where verything passes through the network from left to right\n",
    "    keras.layers.Flatten(input_shape=(28, 28)), # flatten so we can take in a matrix shape and turn it into an array. Input layer\n",
    "    keras.layers.Dense(128, activation='relu'), # we want a dense layer on the hidden layer. Hidden layer. we have 128 hidden neurons. usually a little bit smaller than the input layer\n",
    "    keras.layers.Dense(120, activation='relu'),\n",
    "    keras.layers.Dense(10, activation='softmax') # output layer, we want 10 output neurons, because we have 10 classes to sort into\n",
    "    # using activation function softmax. This will make sure all our values add up to 1\n",
    "])"
   ]
  },
  {
   "cell_type": "markdown",
   "metadata": {},
   "source": [
    "## compilation\n",
    "weve defined the architecture of our model, now we need to define the optimizer, the loss, and the metrics"
   ]
  },
  {
   "cell_type": "code",
   "execution_count": 23,
   "metadata": {},
   "outputs": [],
   "source": [
    "model.compile(optimizer='adam', # hyperparameter tuning. Weights and bias arent things we can change. THese are. Hyperparameter tuning is the process of changing what we can, and observing effects\n",
    "                loss='sparse_categorical_crossentropy',\n",
    "                metrics=[\"accuracy\"])"
   ]
  },
  {
   "cell_type": "markdown",
   "metadata": {},
   "source": [
    "## Training the model"
   ]
  },
  {
   "cell_type": "code",
   "execution_count": 24,
   "metadata": {},
   "outputs": [
    {
     "name": "stdout",
     "output_type": "stream",
     "text": [
      "Epoch 1/5\n",
      "1875/1875 [==============================] - 6s 3ms/step - loss: 0.8712 - accuracy: 0.6799\n",
      "Epoch 2/5\n",
      "1875/1875 [==============================] - 5s 3ms/step - loss: 0.5671 - accuracy: 0.7929\n",
      "Epoch 3/5\n",
      "1875/1875 [==============================] - 5s 3ms/step - loss: 0.5067 - accuracy: 0.8177\n",
      "Epoch 4/5\n",
      "1875/1875 [==============================] - 5s 3ms/step - loss: 0.4667 - accuracy: 0.8312\n",
      "Epoch 5/5\n",
      "1875/1875 [==============================] - 5s 3ms/step - loss: 0.4384 - accuracy: 0.8416\n"
     ]
    },
    {
     "data": {
      "text/plain": [
       "<keras.callbacks.History at 0x1f154620040>"
      ]
     },
     "execution_count": 24,
     "metadata": {},
     "output_type": "execute_result"
    }
   ],
   "source": [
    "model.fit(train_images, train_labels, epochs=5) # epochs are number of times we run the data through. Another hyperparameter\n",
    "#we are fitting the model"
   ]
  },
  {
   "cell_type": "markdown",
   "metadata": {},
   "source": [
    "we can see accuracy and loss values"
   ]
  },
  {
   "cell_type": "code",
   "execution_count": 17,
   "metadata": {},
   "outputs": [
    {
     "name": "stdout",
     "output_type": "stream",
     "text": [
      "313/313 [==============================] - 1s 2ms/step - loss: 0.5117 - accuracy: 0.8178\n",
      "test accuracy 0.817799985408783\n"
     ]
    }
   ],
   "source": [
    "# now we train\n",
    "test_loss, test_acc = model.evaluate(test_images, test_labels, verbose=1) # verbose means we are telling it to print everything\n",
    "\n",
    "print('test accuracy', test_acc) "
   ]
  },
  {
   "cell_type": "markdown",
   "metadata": {},
   "source": [
    "Overfitting:\n",
    "when the network learns the training data, and becomes less adaptable to determining what other data is. we want the highest accuracy possible with higher generalization\n",
    "how do we fix that? we figure that out later\n",
    "main symnptom of overfitting is significantly (several percent) lower accuracy on the test data than the training data. very high accuracy on training data is usually also a symptom\n",
    "sometimes fewer epochs is better. We dont want it to completely mold to a specific set of data"
   ]
  },
  {
   "cell_type": "markdown",
   "metadata": {},
   "source": [
    "## making predictions"
   ]
  },
  {
   "cell_type": "code",
   "execution_count": 16,
   "metadata": {},
   "outputs": [
    {
     "name": "stdout",
     "output_type": "stream",
     "text": [
      "313/313 [==============================] - 1s 2ms/step\n",
      "Sweater\n"
     ]
    },
    {
     "data": {
      "image/png": "[encoded data removed]",
      "text/plain": [
       "<Figure size 432x288 with 1 Axes>"
      ]
     },
     "metadata": {
      "needs_background": "light"
     },
     "output_type": "display_data"
    }
   ],
   "source": [
    "predictions = model.predict(test_images) # we must always give the data in an array\n",
    "\n",
    "requested_index = int(input(\"Enter an index: \"))\n",
    "print(class_names[np.argmax(predictions[requested_index])]) #we get an array of probabilities, so we need to find the maximum value to determine what the prediction is.\n",
    "# np.argmax is an index, so we can put that index into the labels array\n",
    "plt.figure()\n",
    "plt.imshow(test_images[requested_index])\n",
    "plt.colorbar\n",
    "plt.grid(False)\n",
    "plt.show()"
   ]
  },
  {
   "cell_type": "code",
   "execution_count": 25,
   "metadata": {},
   "outputs": [
    {
     "data": {
      "text/plain": [
       "(10000, 28, 28)"
      ]
     },
     "execution_count": 25,
     "metadata": {},
     "output_type": "execute_result"
    }
   ],
   "source": [
    "test_images.shape"
   ]
  },
  {
   "cell_type": "markdown",
   "metadata": {},
   "source": [
    "## Verification Script"
   ]
  },
  {
   "cell_type": "code",
   "execution_count": 25,
   "metadata": {},
   "outputs": [
    {
     "name": "stdout",
     "output_type": "stream",
     "text": [
      "1/1 [==============================] - 0s 191ms/step\n"
     ]
    },
    {
     "data": {
      "image/png": "[encoded data removed]",
      "text/plain": [
       "<Figure size 432x288 with 2 Axes>"
      ]
     },
     "metadata": {
      "needs_background": "light"
     },
     "output_type": "display_data"
    }
   ],
   "source": [
    "COLOR = 'white'\n",
    "plt.rcParams['text.color'] = COLOR\n",
    "plt.rcParams['axes.labelcolor'] = COLOR\n",
    "\n",
    "def predict(model, image, correct_label):\n",
    "    class_names = ['T-shirt/top', 'Pants', 'Sweater', 'Dress', 'Coat', 'Sandal', 'Shirt', 'Sneaker', 'Bag', 'Ankle boot']\n",
    "    prediction = model.predict(np.array([image]))\n",
    "    predicted_class = class_names[np.argmax(prediction)]\n",
    "\n",
    "    show_image(image, class_names[correct_label], predicted_class)\n",
    "\n",
    "def show_image(img, label, guess):\n",
    "    plt.figure()\n",
    "    plt.imshow(img, cmap=plt.cm.binary)\n",
    "    plt.title(f\"Expected: {label}\")\n",
    "    plt.xlabel(f\"Guess: {guess}\")\n",
    "    plt.colorbar()\n",
    "    plt.grid(False)\n",
    "    plt.show()\n",
    "\n",
    "def get_number():\n",
    "    while True:\n",
    "        num = input(\"Pick a number < 10000: \")\n",
    "        if num.isdigit():\n",
    "            num = int(num)\n",
    "            if 0 <= num <= 10000:\n",
    "                return int(num)\n",
    "        else:\n",
    "            print('error please enter new number')\n",
    "\n",
    "num = get_number()\n",
    "image = test_images[num]\n",
    "label = test_labels[num]\n",
    "predict(model, image, label)"
   ]
  }
 ],
 "metadata": {
  "kernelspec": {
   "display_name": "Python 3.10.1 64-bit",
   "language": "python",
   "name": "python3"
  },
  "language_info": {
   "codemirror_mode": {
    "name": "ipython",
    "version": 3
   },
   "file_extension": ".py",
   "mimetype": "text/x-python",
   "name": "python",
   "nbconvert_exporter": "python",
   "pygments_lexer": "ipython3",
   "version": "3.10.1"
  },
  "orig_nbformat": 4,
  "vscode": {
   "interpreter": {
    "hash": "26de051ba29f2982a8de78e945f0abaf191376122a1563185a90213a26c5da77"
   }
  }
 },
 "nbformat": 4,
 "nbformat_minor": 2
}
